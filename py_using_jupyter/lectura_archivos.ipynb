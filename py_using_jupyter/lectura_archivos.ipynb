{
 "metadata": {
  "language_info": {
   "codemirror_mode": {
    "name": "ipython",
    "version": 3
   },
   "file_extension": ".py",
   "mimetype": "text/x-python",
   "name": "python",
   "nbconvert_exporter": "python",
   "pygments_lexer": "ipython3",
   "version": "3.8.5-final"
  },
  "orig_nbformat": 2,
  "kernelspec": {
   "name": "python3",
   "display_name": "Python 3",
   "language": "python"
  }
 },
 "nbformat": 4,
 "nbformat_minor": 2,
 "cells": [
  {
   "cell_type": "code",
   "execution_count": 7,
   "metadata": {},
   "outputs": [
    {
     "output_type": "execute_result",
     "data": {
      "text/plain": [
       "  Otro    Nombre  Edad  Dia  Mes   Año   Estado\n",
       "0    d    German    29    6    2  1992  Soltero\n",
       "1    r     Cesar    30    3   11  1991  Soltero\n",
       "2    g  Veronica    26   17    3  1994  Soltera\n",
       "3    z    Andrea    34   23    4  1984  Soltera"
      ],
      "text/html": "<div>\n<style scoped>\n    .dataframe tbody tr th:only-of-type {\n        vertical-align: middle;\n    }\n\n    .dataframe tbody tr th {\n        vertical-align: top;\n    }\n\n    .dataframe thead th {\n        text-align: right;\n    }\n</style>\n<table border=\"1\" class=\"dataframe\">\n  <thead>\n    <tr style=\"text-align: right;\">\n      <th></th>\n      <th>Otro</th>\n      <th>Nombre</th>\n      <th>Edad</th>\n      <th>Dia</th>\n      <th>Mes</th>\n      <th>Año</th>\n      <th>Estado</th>\n    </tr>\n  </thead>\n  <tbody>\n    <tr>\n      <th>0</th>\n      <td>d</td>\n      <td>German</td>\n      <td>29</td>\n      <td>6</td>\n      <td>2</td>\n      <td>1992</td>\n      <td>Soltero</td>\n    </tr>\n    <tr>\n      <th>1</th>\n      <td>r</td>\n      <td>Cesar</td>\n      <td>30</td>\n      <td>3</td>\n      <td>11</td>\n      <td>1991</td>\n      <td>Soltero</td>\n    </tr>\n    <tr>\n      <th>2</th>\n      <td>g</td>\n      <td>Veronica</td>\n      <td>26</td>\n      <td>17</td>\n      <td>3</td>\n      <td>1994</td>\n      <td>Soltera</td>\n    </tr>\n    <tr>\n      <th>3</th>\n      <td>z</td>\n      <td>Andrea</td>\n      <td>34</td>\n      <td>23</td>\n      <td>4</td>\n      <td>1984</td>\n      <td>Soltera</td>\n    </tr>\n  </tbody>\n</table>\n</div>"
     },
     "metadata": {},
     "execution_count": 7
    }
   ],
   "source": [
    "import pandas\n",
    "frame = pandas.read_csv(\"test_lectura.csv\")\n",
    "frame"
   ]
  },
  {
   "cell_type": "code",
   "execution_count": 15,
   "metadata": {},
   "outputs": [
    {
     "output_type": "execute_result",
     "data": {
      "text/plain": [
       "     Nombre  Edad  Dia  Mes   Año   Estado\n",
       "0    German    29    6    2  1992  Soltero\n",
       "1     Cesar    30    3   11  1991  Soltero\n",
       "2  Veronica    26   17    3  1994  Soltera\n",
       "3    Andrea    34   23    4  1984  Soltera"
      ],
      "text/html": "<div>\n<style scoped>\n    .dataframe tbody tr th:only-of-type {\n        vertical-align: middle;\n    }\n\n    .dataframe tbody tr th {\n        vertical-align: top;\n    }\n\n    .dataframe thead th {\n        text-align: right;\n    }\n</style>\n<table border=\"1\" class=\"dataframe\">\n  <thead>\n    <tr style=\"text-align: right;\">\n      <th></th>\n      <th>Nombre</th>\n      <th>Edad</th>\n      <th>Dia</th>\n      <th>Mes</th>\n      <th>Año</th>\n      <th>Estado</th>\n    </tr>\n  </thead>\n  <tbody>\n    <tr>\n      <th>0</th>\n      <td>German</td>\n      <td>29</td>\n      <td>6</td>\n      <td>2</td>\n      <td>1992</td>\n      <td>Soltero</td>\n    </tr>\n    <tr>\n      <th>1</th>\n      <td>Cesar</td>\n      <td>30</td>\n      <td>3</td>\n      <td>11</td>\n      <td>1991</td>\n      <td>Soltero</td>\n    </tr>\n    <tr>\n      <th>2</th>\n      <td>Veronica</td>\n      <td>26</td>\n      <td>17</td>\n      <td>3</td>\n      <td>1994</td>\n      <td>Soltera</td>\n    </tr>\n    <tr>\n      <th>3</th>\n      <td>Andrea</td>\n      <td>34</td>\n      <td>23</td>\n      <td>4</td>\n      <td>1984</td>\n      <td>Soltera</td>\n    </tr>\n  </tbody>\n</table>\n</div>"
     },
     "metadata": {},
     "execution_count": 15
    }
   ],
   "source": [
    "from pandas import DataFrame\n",
    "data_frame = DataFrame(frame,columns=['Nombre','Edad','Dia','Mes','Año','Estado'])\n",
    "data_frame"
   ]
  },
  {
   "cell_type": "code",
   "execution_count": 16,
   "metadata": {},
   "outputs": [
    {
     "output_type": "execute_result",
     "data": {
      "text/plain": [
       "     Nombre  Edad  Dia  Mes   Año   Estado\n",
       "1     Cesar    30    3   11  1991  Soltero\n",
       "2  Veronica    26   17    3  1994  Soltera\n",
       "3    Andrea    34   23    4  1984  Soltera"
      ],
      "text/html": "<div>\n<style scoped>\n    .dataframe tbody tr th:only-of-type {\n        vertical-align: middle;\n    }\n\n    .dataframe tbody tr th {\n        vertical-align: top;\n    }\n\n    .dataframe thead th {\n        text-align: right;\n    }\n</style>\n<table border=\"1\" class=\"dataframe\">\n  <thead>\n    <tr style=\"text-align: right;\">\n      <th></th>\n      <th>Nombre</th>\n      <th>Edad</th>\n      <th>Dia</th>\n      <th>Mes</th>\n      <th>Año</th>\n      <th>Estado</th>\n    </tr>\n  </thead>\n  <tbody>\n    <tr>\n      <th>1</th>\n      <td>Cesar</td>\n      <td>30</td>\n      <td>3</td>\n      <td>11</td>\n      <td>1991</td>\n      <td>Soltero</td>\n    </tr>\n    <tr>\n      <th>2</th>\n      <td>Veronica</td>\n      <td>26</td>\n      <td>17</td>\n      <td>3</td>\n      <td>1994</td>\n      <td>Soltera</td>\n    </tr>\n    <tr>\n      <th>3</th>\n      <td>Andrea</td>\n      <td>34</td>\n      <td>23</td>\n      <td>4</td>\n      <td>1984</td>\n      <td>Soltera</td>\n    </tr>\n  </tbody>\n</table>\n</div>"
     },
     "metadata": {},
     "execution_count": 16
    }
   ],
   "source": [
    "data_frame = data_frame.drop([0])\n",
    "data_frame"
   ]
  },
  {
   "cell_type": "code",
   "execution_count": 17,
   "metadata": {},
   "outputs": [
    {
     "output_type": "execute_result",
     "data": {
      "text/plain": [
       "     Nombre  Edad  Dia  Mes   Año\n",
       "1     Cesar    30    3   11  1991\n",
       "2  Veronica    26   17    3  1994\n",
       "3    Andrea    34   23    4  1984"
      ],
      "text/html": "<div>\n<style scoped>\n    .dataframe tbody tr th:only-of-type {\n        vertical-align: middle;\n    }\n\n    .dataframe tbody tr th {\n        vertical-align: top;\n    }\n\n    .dataframe thead th {\n        text-align: right;\n    }\n</style>\n<table border=\"1\" class=\"dataframe\">\n  <thead>\n    <tr style=\"text-align: right;\">\n      <th></th>\n      <th>Nombre</th>\n      <th>Edad</th>\n      <th>Dia</th>\n      <th>Mes</th>\n      <th>Año</th>\n    </tr>\n  </thead>\n  <tbody>\n    <tr>\n      <th>1</th>\n      <td>Cesar</td>\n      <td>30</td>\n      <td>3</td>\n      <td>11</td>\n      <td>1991</td>\n    </tr>\n    <tr>\n      <th>2</th>\n      <td>Veronica</td>\n      <td>26</td>\n      <td>17</td>\n      <td>3</td>\n      <td>1994</td>\n    </tr>\n    <tr>\n      <th>3</th>\n      <td>Andrea</td>\n      <td>34</td>\n      <td>23</td>\n      <td>4</td>\n      <td>1984</td>\n    </tr>\n  </tbody>\n</table>\n</div>"
     },
     "metadata": {},
     "execution_count": 17
    }
   ],
   "source": [
    "data_frame = data_frame.drop('Estado',axis=1)\n",
    "data_frame"
   ]
  },
  {
   "cell_type": "code",
   "execution_count": 18,
   "metadata": {},
   "outputs": [
    {
     "output_type": "execute_result",
     "data": {
      "text/plain": [
       "     Nombre  Edad  Dia  Mes   Año\n",
       "3    Andrea    34   23    4  1984\n",
       "1     Cesar    30    3   11  1991\n",
       "2  Veronica    26   17    3  1994"
      ],
      "text/html": "<div>\n<style scoped>\n    .dataframe tbody tr th:only-of-type {\n        vertical-align: middle;\n    }\n\n    .dataframe tbody tr th {\n        vertical-align: top;\n    }\n\n    .dataframe thead th {\n        text-align: right;\n    }\n</style>\n<table border=\"1\" class=\"dataframe\">\n  <thead>\n    <tr style=\"text-align: right;\">\n      <th></th>\n      <th>Nombre</th>\n      <th>Edad</th>\n      <th>Dia</th>\n      <th>Mes</th>\n      <th>Año</th>\n    </tr>\n  </thead>\n  <tbody>\n    <tr>\n      <th>3</th>\n      <td>Andrea</td>\n      <td>34</td>\n      <td>23</td>\n      <td>4</td>\n      <td>1984</td>\n    </tr>\n    <tr>\n      <th>1</th>\n      <td>Cesar</td>\n      <td>30</td>\n      <td>3</td>\n      <td>11</td>\n      <td>1991</td>\n    </tr>\n    <tr>\n      <th>2</th>\n      <td>Veronica</td>\n      <td>26</td>\n      <td>17</td>\n      <td>3</td>\n      <td>1994</td>\n    </tr>\n  </tbody>\n</table>\n</div>"
     },
     "metadata": {},
     "execution_count": 18
    }
   ],
   "source": [
    "data_frame.sort_values(by='Año')"
   ]
  },
  {
   "cell_type": "code",
   "execution_count": 19,
   "metadata": {},
   "outputs": [
    {
     "output_type": "execute_result",
     "data": {
      "text/plain": [
       "Edad      90\n",
       "Dia       43\n",
       "Mes       18\n",
       "Año     5969\n",
       "dtype: int64"
      ]
     },
     "metadata": {},
     "execution_count": 19
    }
   ],
   "source": [
    "data_frame.sum(numeric_only=True)"
   ]
  },
  {
   "cell_type": "code",
   "execution_count": null,
   "metadata": {},
   "outputs": [],
   "source": []
  }
 ]
}