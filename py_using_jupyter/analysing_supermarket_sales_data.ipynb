{
 "metadata": {
  "language_info": {
   "codemirror_mode": {
    "name": "ipython",
    "version": 3
   },
   "file_extension": ".py",
   "mimetype": "text/x-python",
   "name": "python",
   "nbconvert_exporter": "python",
   "pygments_lexer": "ipython3",
   "version": "3.8.5-final"
  },
  "orig_nbformat": 2,
  "kernelspec": {
   "name": "python3",
   "display_name": "Python 3",
   "language": "python"
  }
 },
 "nbformat": 4,
 "nbformat_minor": 2,
 "cells": [
  {
   "cell_type": "code",
   "execution_count": 4,
   "metadata": {},
   "outputs": [
    {
     "output_type": "execute_result",
     "data": {
      "text/plain": [
       "   Invoice ID       Date   Time  Gender     Location     City Member  \\\n",
       "0   460489604  1/25/2018  16:46    Male   Brookfield  NewYork    Yes   \n",
       "1   471006167  3/19/2018  16:48  Female  Water tower  Chicago    Yes   \n",
       "2   411909258  2/25/2018  13:33    Male  Water tower  Chicago     No   \n",
       "3   487313402  1/22/2018  13:38  Female    Park lane   Dallas    Yes   \n",
       "4   197763430  2/18/2018  15:31  Female    Park lane   Dallas     No   \n",
       "5   263634050   3/9/2018  17:55    Male   Brookfield  NewYork    Yes   \n",
       "6    99646662   3/4/2018  13:21    Male  Water tower  Chicago     No   \n",
       "7   188869875   3/8/2018  13:24    Male    Park lane   Dallas     No   \n",
       "8   325637547  1/18/2018  15:33    Male    Park lane   Dallas    Yes   \n",
       "9   562942936  2/24/2018  16:05  Female    Park lane   Dallas     No   \n",
       "\n",
       "    Category  Price  Quantity  Total Payment  Rating  \n",
       "0  Groceries     30         1     30    Cash       2  \n",
       "1    Fashion     35         5    175    Card       3  \n",
       "2   Clothing     57         2    114    Cash       5  \n",
       "3   Sporting     89         4    356    Gpay       1  \n",
       "4      Books     82         5    410    Cash       4  \n",
       "5   Clothing     52         4    208    Gpay       3  \n",
       "6   Clothing     81         3    243    Cash       4  \n",
       "7      Books     80         2    160    Cash       3  \n",
       "8   Clothing     91         3    273    Card       3  \n",
       "9      Books     80         2    160    Cash       4  "
      ],
      "text/html": "<div>\n<style scoped>\n    .dataframe tbody tr th:only-of-type {\n        vertical-align: middle;\n    }\n\n    .dataframe tbody tr th {\n        vertical-align: top;\n    }\n\n    .dataframe thead th {\n        text-align: right;\n    }\n</style>\n<table border=\"1\" class=\"dataframe\">\n  <thead>\n    <tr style=\"text-align: right;\">\n      <th></th>\n      <th>Invoice ID</th>\n      <th>Date</th>\n      <th>Time</th>\n      <th>Gender</th>\n      <th>Location</th>\n      <th>City</th>\n      <th>Member</th>\n      <th>Category</th>\n      <th>Price</th>\n      <th>Quantity</th>\n      <th>Total</th>\n      <th>Payment</th>\n      <th>Rating</th>\n    </tr>\n  </thead>\n  <tbody>\n    <tr>\n      <th>0</th>\n      <td>460489604</td>\n      <td>1/25/2018</td>\n      <td>16:46</td>\n      <td>Male</td>\n      <td>Brookfield</td>\n      <td>NewYork</td>\n      <td>Yes</td>\n      <td>Groceries</td>\n      <td>30</td>\n      <td>1</td>\n      <td>30</td>\n      <td>Cash</td>\n      <td>2</td>\n    </tr>\n    <tr>\n      <th>1</th>\n      <td>471006167</td>\n      <td>3/19/2018</td>\n      <td>16:48</td>\n      <td>Female</td>\n      <td>Water tower</td>\n      <td>Chicago</td>\n      <td>Yes</td>\n      <td>Fashion</td>\n      <td>35</td>\n      <td>5</td>\n      <td>175</td>\n      <td>Card</td>\n      <td>3</td>\n    </tr>\n    <tr>\n      <th>2</th>\n      <td>411909258</td>\n      <td>2/25/2018</td>\n      <td>13:33</td>\n      <td>Male</td>\n      <td>Water tower</td>\n      <td>Chicago</td>\n      <td>No</td>\n      <td>Clothing</td>\n      <td>57</td>\n      <td>2</td>\n      <td>114</td>\n      <td>Cash</td>\n      <td>5</td>\n    </tr>\n    <tr>\n      <th>3</th>\n      <td>487313402</td>\n      <td>1/22/2018</td>\n      <td>13:38</td>\n      <td>Female</td>\n      <td>Park lane</td>\n      <td>Dallas</td>\n      <td>Yes</td>\n      <td>Sporting</td>\n      <td>89</td>\n      <td>4</td>\n      <td>356</td>\n      <td>Gpay</td>\n      <td>1</td>\n    </tr>\n    <tr>\n      <th>4</th>\n      <td>197763430</td>\n      <td>2/18/2018</td>\n      <td>15:31</td>\n      <td>Female</td>\n      <td>Park lane</td>\n      <td>Dallas</td>\n      <td>No</td>\n      <td>Books</td>\n      <td>82</td>\n      <td>5</td>\n      <td>410</td>\n      <td>Cash</td>\n      <td>4</td>\n    </tr>\n    <tr>\n      <th>5</th>\n      <td>263634050</td>\n      <td>3/9/2018</td>\n      <td>17:55</td>\n      <td>Male</td>\n      <td>Brookfield</td>\n      <td>NewYork</td>\n      <td>Yes</td>\n      <td>Clothing</td>\n      <td>52</td>\n      <td>4</td>\n      <td>208</td>\n      <td>Gpay</td>\n      <td>3</td>\n    </tr>\n    <tr>\n      <th>6</th>\n      <td>99646662</td>\n      <td>3/4/2018</td>\n      <td>13:21</td>\n      <td>Male</td>\n      <td>Water tower</td>\n      <td>Chicago</td>\n      <td>No</td>\n      <td>Clothing</td>\n      <td>81</td>\n      <td>3</td>\n      <td>243</td>\n      <td>Cash</td>\n      <td>4</td>\n    </tr>\n    <tr>\n      <th>7</th>\n      <td>188869875</td>\n      <td>3/8/2018</td>\n      <td>13:24</td>\n      <td>Male</td>\n      <td>Park lane</td>\n      <td>Dallas</td>\n      <td>No</td>\n      <td>Books</td>\n      <td>80</td>\n      <td>2</td>\n      <td>160</td>\n      <td>Cash</td>\n      <td>3</td>\n    </tr>\n    <tr>\n      <th>8</th>\n      <td>325637547</td>\n      <td>1/18/2018</td>\n      <td>15:33</td>\n      <td>Male</td>\n      <td>Park lane</td>\n      <td>Dallas</td>\n      <td>Yes</td>\n      <td>Clothing</td>\n      <td>91</td>\n      <td>3</td>\n      <td>273</td>\n      <td>Card</td>\n      <td>3</td>\n    </tr>\n    <tr>\n      <th>9</th>\n      <td>562942936</td>\n      <td>2/24/2018</td>\n      <td>16:05</td>\n      <td>Female</td>\n      <td>Park lane</td>\n      <td>Dallas</td>\n      <td>No</td>\n      <td>Books</td>\n      <td>80</td>\n      <td>2</td>\n      <td>160</td>\n      <td>Cash</td>\n      <td>4</td>\n    </tr>\n  </tbody>\n</table>\n</div>"
     },
     "metadata": {},
     "execution_count": 4
    }
   ],
   "source": [
    "import pandas as pd\n",
    "sales = pd.read_csv('sales.csv')\n",
    "sales.head(10)"
   ]
  },
  {
   "cell_type": "code",
   "execution_count": 3,
   "metadata": {},
   "outputs": [
    {
     "output_type": "execute_result",
     "data": {
      "text/plain": [
       "0      460489604\n",
       "1      471006167\n",
       "2      411909258\n",
       "3      487313402\n",
       "4      197763430\n",
       "         ...    \n",
       "995    818829599\n",
       "996    556589713\n",
       "997     82324424\n",
       "998    783661702\n",
       "999    759171975\n",
       "Name: Invoice ID, Length: 1000, dtype: int64"
      ]
     },
     "metadata": {},
     "execution_count": 3
    }
   ],
   "source": [
    "sales['Invoice ID']"
   ]
  },
  {
   "cell_type": "code",
   "execution_count": 5,
   "metadata": {},
   "outputs": [
    {
     "output_type": "execute_result",
     "data": {
      "text/plain": [
       "array(['Groceries', 'Fashion', 'Clothing', 'Sporting', 'Books',\n",
       "       'Furniture'], dtype=object)"
      ]
     },
     "metadata": {},
     "execution_count": 5
    }
   ],
   "source": [
    "sales['Category'].unique()"
   ]
  },
  {
   "cell_type": "code",
   "execution_count": 7,
   "metadata": {},
   "outputs": [
    {
     "output_type": "execute_result",
     "data": {
      "text/plain": [
       "Invoice ID      576523018\n",
       "Date            2/15/2018\n",
       "Time                12:35\n",
       "Gender               Male\n",
       "Location      Water tower\n",
       "City              Chicago\n",
       "Member                 No\n",
       "Category        Groceries\n",
       "Price                  82\n",
       "Quantity                1\n",
       "Total                  82\n",
       "Payment              Card\n",
       "Rating                  4\n",
       "Name: 200, dtype: object"
      ]
     },
     "metadata": {},
     "execution_count": 7
    }
   ],
   "source": [
    "sales.iloc[200]"
   ]
  },
  {
   "cell_type": "code",
   "execution_count": 8,
   "metadata": {},
   "outputs": [
    {
     "output_type": "execute_result",
     "data": {
      "text/plain": [
       "     Invoice ID       Date   Time  Gender     Location     City Member  \\\n",
       "200   576523018  2/15/2018  12:35    Male  Water tower  Chicago     No   \n",
       "201   414119922  1/30/2018  11:07    Male  Water tower  Chicago     No   \n",
       "202   123247697   2/8/2018  20:03    Male   Brookfield  NewYork     No   \n",
       "203    40419058  1/26/2018  14:53    Male  Water tower  Chicago    Yes   \n",
       "204   890497298  2/25/2018  18:06  Female  Water tower  Chicago     No   \n",
       "205   885702268  1/28/2018  12:45    Male   Brookfield  NewYork     No   \n",
       "206   172252194  3/22/2018  20:10  Female    Park lane   Dallas     No   \n",
       "207   866140211  2/25/2018  13:34  Female    Park lane   Dallas     No   \n",
       "208   597678548  3/15/2018  17:35    Male  Water tower  Chicago    Yes   \n",
       "209   428818456  2/25/2018  18:50    Male    Park lane   Dallas    Yes   \n",
       "\n",
       "      Category  Price  Quantity  Total Payment  Rating  \n",
       "200  Groceries     82         1     82    Card       4  \n",
       "201   Sporting     44         7    308    Card       3  \n",
       "202  Groceries     22         7    154    Card       5  \n",
       "203      Books     95         6    570    Card       1  \n",
       "204   Clothing     69         2    138    Cash       2  \n",
       "205  Groceries     89         6    534    Card       1  \n",
       "206      Books     41         6    246    Card       4  \n",
       "207   Clothing     54         6    324    Gpay       4  \n",
       "208   Sporting     34         3    102    Cash       1  \n",
       "209      Books     94         5    470    Cash       2  "
      ],
      "text/html": "<div>\n<style scoped>\n    .dataframe tbody tr th:only-of-type {\n        vertical-align: middle;\n    }\n\n    .dataframe tbody tr th {\n        vertical-align: top;\n    }\n\n    .dataframe thead th {\n        text-align: right;\n    }\n</style>\n<table border=\"1\" class=\"dataframe\">\n  <thead>\n    <tr style=\"text-align: right;\">\n      <th></th>\n      <th>Invoice ID</th>\n      <th>Date</th>\n      <th>Time</th>\n      <th>Gender</th>\n      <th>Location</th>\n      <th>City</th>\n      <th>Member</th>\n      <th>Category</th>\n      <th>Price</th>\n      <th>Quantity</th>\n      <th>Total</th>\n      <th>Payment</th>\n      <th>Rating</th>\n    </tr>\n  </thead>\n  <tbody>\n    <tr>\n      <th>200</th>\n      <td>576523018</td>\n      <td>2/15/2018</td>\n      <td>12:35</td>\n      <td>Male</td>\n      <td>Water tower</td>\n      <td>Chicago</td>\n      <td>No</td>\n      <td>Groceries</td>\n      <td>82</td>\n      <td>1</td>\n      <td>82</td>\n      <td>Card</td>\n      <td>4</td>\n    </tr>\n    <tr>\n      <th>201</th>\n      <td>414119922</td>\n      <td>1/30/2018</td>\n      <td>11:07</td>\n      <td>Male</td>\n      <td>Water tower</td>\n      <td>Chicago</td>\n      <td>No</td>\n      <td>Sporting</td>\n      <td>44</td>\n      <td>7</td>\n      <td>308</td>\n      <td>Card</td>\n      <td>3</td>\n    </tr>\n    <tr>\n      <th>202</th>\n      <td>123247697</td>\n      <td>2/8/2018</td>\n      <td>20:03</td>\n      <td>Male</td>\n      <td>Brookfield</td>\n      <td>NewYork</td>\n      <td>No</td>\n      <td>Groceries</td>\n      <td>22</td>\n      <td>7</td>\n      <td>154</td>\n      <td>Card</td>\n      <td>5</td>\n    </tr>\n    <tr>\n      <th>203</th>\n      <td>40419058</td>\n      <td>1/26/2018</td>\n      <td>14:53</td>\n      <td>Male</td>\n      <td>Water tower</td>\n      <td>Chicago</td>\n      <td>Yes</td>\n      <td>Books</td>\n      <td>95</td>\n      <td>6</td>\n      <td>570</td>\n      <td>Card</td>\n      <td>1</td>\n    </tr>\n    <tr>\n      <th>204</th>\n      <td>890497298</td>\n      <td>2/25/2018</td>\n      <td>18:06</td>\n      <td>Female</td>\n      <td>Water tower</td>\n      <td>Chicago</td>\n      <td>No</td>\n      <td>Clothing</td>\n      <td>69</td>\n      <td>2</td>\n      <td>138</td>\n      <td>Cash</td>\n      <td>2</td>\n    </tr>\n    <tr>\n      <th>205</th>\n      <td>885702268</td>\n      <td>1/28/2018</td>\n      <td>12:45</td>\n      <td>Male</td>\n      <td>Brookfield</td>\n      <td>NewYork</td>\n      <td>No</td>\n      <td>Groceries</td>\n      <td>89</td>\n      <td>6</td>\n      <td>534</td>\n      <td>Card</td>\n      <td>1</td>\n    </tr>\n    <tr>\n      <th>206</th>\n      <td>172252194</td>\n      <td>3/22/2018</td>\n      <td>20:10</td>\n      <td>Female</td>\n      <td>Park lane</td>\n      <td>Dallas</td>\n      <td>No</td>\n      <td>Books</td>\n      <td>41</td>\n      <td>6</td>\n      <td>246</td>\n      <td>Card</td>\n      <td>4</td>\n    </tr>\n    <tr>\n      <th>207</th>\n      <td>866140211</td>\n      <td>2/25/2018</td>\n      <td>13:34</td>\n      <td>Female</td>\n      <td>Park lane</td>\n      <td>Dallas</td>\n      <td>No</td>\n      <td>Clothing</td>\n      <td>54</td>\n      <td>6</td>\n      <td>324</td>\n      <td>Gpay</td>\n      <td>4</td>\n    </tr>\n    <tr>\n      <th>208</th>\n      <td>597678548</td>\n      <td>3/15/2018</td>\n      <td>17:35</td>\n      <td>Male</td>\n      <td>Water tower</td>\n      <td>Chicago</td>\n      <td>Yes</td>\n      <td>Sporting</td>\n      <td>34</td>\n      <td>3</td>\n      <td>102</td>\n      <td>Cash</td>\n      <td>1</td>\n    </tr>\n    <tr>\n      <th>209</th>\n      <td>428818456</td>\n      <td>2/25/2018</td>\n      <td>18:50</td>\n      <td>Male</td>\n      <td>Park lane</td>\n      <td>Dallas</td>\n      <td>Yes</td>\n      <td>Books</td>\n      <td>94</td>\n      <td>5</td>\n      <td>470</td>\n      <td>Cash</td>\n      <td>2</td>\n    </tr>\n  </tbody>\n</table>\n</div>"
     },
     "metadata": {},
     "execution_count": 8
    }
   ],
   "source": [
    "sales[200:210]"
   ]
  },
  {
   "cell_type": "code",
   "execution_count": 13,
   "metadata": {},
   "outputs": [
    {
     "output_type": "execute_result",
     "data": {
      "text/plain": [
       "    Invoice ID       Date   Time Gender     Location     City Member  \\\n",
       "0    460489604  1/25/2018  16:46   Male   Brookfield  NewYork    Yes   \n",
       "2    411909258  2/25/2018  13:33   Male  Water tower  Chicago     No   \n",
       "5    263634050   3/9/2018  17:55   Male   Brookfield  NewYork    Yes   \n",
       "6     99646662   3/4/2018  13:21   Male  Water tower  Chicago     No   \n",
       "7    188869875   3/8/2018  13:24   Male    Park lane   Dallas     No   \n",
       "8    325637547  1/18/2018  15:33   Male    Park lane   Dallas    Yes   \n",
       "11   846531724  3/15/2018  12:12   Male    Park lane   Dallas     No   \n",
       "12   149894432  1/12/2018  11:12   Male    Park lane   Dallas     No   \n",
       "17    90524319  3/19/2018  18:18   Male    Park lane   Dallas    Yes   \n",
       "19   729486362   3/7/2018  12:50   Male  Water tower  Chicago     No   \n",
       "\n",
       "     Category  Price  Quantity  Total Payment  Rating  \n",
       "0   Groceries     30         1     30    Cash       2  \n",
       "2    Clothing     57         2    114    Cash       5  \n",
       "5    Clothing     52         4    208    Gpay       3  \n",
       "6    Clothing     81         3    243    Cash       4  \n",
       "7       Books     80         2    160    Cash       3  \n",
       "8    Clothing     91         3    273    Card       3  \n",
       "11   Sporting     22         5    110    Card       4  \n",
       "12   Clothing     77         5    385    Cash       4  \n",
       "17   Clothing     23         1     23    Cash       3  \n",
       "19  Groceries     39         4    156    Cash       3  "
      ],
      "text/html": "<div>\n<style scoped>\n    .dataframe tbody tr th:only-of-type {\n        vertical-align: middle;\n    }\n\n    .dataframe tbody tr th {\n        vertical-align: top;\n    }\n\n    .dataframe thead th {\n        text-align: right;\n    }\n</style>\n<table border=\"1\" class=\"dataframe\">\n  <thead>\n    <tr style=\"text-align: right;\">\n      <th></th>\n      <th>Invoice ID</th>\n      <th>Date</th>\n      <th>Time</th>\n      <th>Gender</th>\n      <th>Location</th>\n      <th>City</th>\n      <th>Member</th>\n      <th>Category</th>\n      <th>Price</th>\n      <th>Quantity</th>\n      <th>Total</th>\n      <th>Payment</th>\n      <th>Rating</th>\n    </tr>\n  </thead>\n  <tbody>\n    <tr>\n      <th>0</th>\n      <td>460489604</td>\n      <td>1/25/2018</td>\n      <td>16:46</td>\n      <td>Male</td>\n      <td>Brookfield</td>\n      <td>NewYork</td>\n      <td>Yes</td>\n      <td>Groceries</td>\n      <td>30</td>\n      <td>1</td>\n      <td>30</td>\n      <td>Cash</td>\n      <td>2</td>\n    </tr>\n    <tr>\n      <th>2</th>\n      <td>411909258</td>\n      <td>2/25/2018</td>\n      <td>13:33</td>\n      <td>Male</td>\n      <td>Water tower</td>\n      <td>Chicago</td>\n      <td>No</td>\n      <td>Clothing</td>\n      <td>57</td>\n      <td>2</td>\n      <td>114</td>\n      <td>Cash</td>\n      <td>5</td>\n    </tr>\n    <tr>\n      <th>5</th>\n      <td>263634050</td>\n      <td>3/9/2018</td>\n      <td>17:55</td>\n      <td>Male</td>\n      <td>Brookfield</td>\n      <td>NewYork</td>\n      <td>Yes</td>\n      <td>Clothing</td>\n      <td>52</td>\n      <td>4</td>\n      <td>208</td>\n      <td>Gpay</td>\n      <td>3</td>\n    </tr>\n    <tr>\n      <th>6</th>\n      <td>99646662</td>\n      <td>3/4/2018</td>\n      <td>13:21</td>\n      <td>Male</td>\n      <td>Water tower</td>\n      <td>Chicago</td>\n      <td>No</td>\n      <td>Clothing</td>\n      <td>81</td>\n      <td>3</td>\n      <td>243</td>\n      <td>Cash</td>\n      <td>4</td>\n    </tr>\n    <tr>\n      <th>7</th>\n      <td>188869875</td>\n      <td>3/8/2018</td>\n      <td>13:24</td>\n      <td>Male</td>\n      <td>Park lane</td>\n      <td>Dallas</td>\n      <td>No</td>\n      <td>Books</td>\n      <td>80</td>\n      <td>2</td>\n      <td>160</td>\n      <td>Cash</td>\n      <td>3</td>\n    </tr>\n    <tr>\n      <th>8</th>\n      <td>325637547</td>\n      <td>1/18/2018</td>\n      <td>15:33</td>\n      <td>Male</td>\n      <td>Park lane</td>\n      <td>Dallas</td>\n      <td>Yes</td>\n      <td>Clothing</td>\n      <td>91</td>\n      <td>3</td>\n      <td>273</td>\n      <td>Card</td>\n      <td>3</td>\n    </tr>\n    <tr>\n      <th>11</th>\n      <td>846531724</td>\n      <td>3/15/2018</td>\n      <td>12:12</td>\n      <td>Male</td>\n      <td>Park lane</td>\n      <td>Dallas</td>\n      <td>No</td>\n      <td>Sporting</td>\n      <td>22</td>\n      <td>5</td>\n      <td>110</td>\n      <td>Card</td>\n      <td>4</td>\n    </tr>\n    <tr>\n      <th>12</th>\n      <td>149894432</td>\n      <td>1/12/2018</td>\n      <td>11:12</td>\n      <td>Male</td>\n      <td>Park lane</td>\n      <td>Dallas</td>\n      <td>No</td>\n      <td>Clothing</td>\n      <td>77</td>\n      <td>5</td>\n      <td>385</td>\n      <td>Cash</td>\n      <td>4</td>\n    </tr>\n    <tr>\n      <th>17</th>\n      <td>90524319</td>\n      <td>3/19/2018</td>\n      <td>18:18</td>\n      <td>Male</td>\n      <td>Park lane</td>\n      <td>Dallas</td>\n      <td>Yes</td>\n      <td>Clothing</td>\n      <td>23</td>\n      <td>1</td>\n      <td>23</td>\n      <td>Cash</td>\n      <td>3</td>\n    </tr>\n    <tr>\n      <th>19</th>\n      <td>729486362</td>\n      <td>3/7/2018</td>\n      <td>12:50</td>\n      <td>Male</td>\n      <td>Water tower</td>\n      <td>Chicago</td>\n      <td>No</td>\n      <td>Groceries</td>\n      <td>39</td>\n      <td>4</td>\n      <td>156</td>\n      <td>Cash</td>\n      <td>3</td>\n    </tr>\n  </tbody>\n</table>\n</div>"
     },
     "metadata": {},
     "execution_count": 13
    }
   ],
   "source": [
    "sales[sales['Gender']=='Male'].head(10)"
   ]
  },
  {
   "cell_type": "code",
   "execution_count": 5,
   "metadata": {},
   "outputs": [
    {
     "output_type": "execute_result",
     "data": {
      "text/plain": [
       "    Invoice ID       Date   Time  Gender     Location     City Member  \\\n",
       "1    471006167  3/19/2018  16:48  Female  Water tower  Chicago    Yes   \n",
       "2    411909258  2/25/2018  13:33    Male  Water tower  Chicago     No   \n",
       "3    487313402  1/22/2018  13:38  Female    Park lane   Dallas    Yes   \n",
       "4    197763430  2/18/2018  15:31  Female    Park lane   Dallas     No   \n",
       "5    263634050   3/9/2018  17:55    Male   Brookfield  NewYork    Yes   \n",
       "6     99646662   3/4/2018  13:21    Male  Water tower  Chicago     No   \n",
       "7    188869875   3/8/2018  13:24    Male    Park lane   Dallas     No   \n",
       "8    325637547  1/18/2018  15:33    Male    Park lane   Dallas    Yes   \n",
       "9    562942936  2/24/2018  16:05  Female    Park lane   Dallas     No   \n",
       "10   388412668  2/26/2018  11:32  Female   Brookfield  NewYork     No   \n",
       "\n",
       "     Category  Price  Quantity  Total Payment  Rating  \n",
       "1     Fashion     35         5    175    Card       3  \n",
       "2    Clothing     57         2    114    Cash       5  \n",
       "3    Sporting     89         4    356    Gpay       1  \n",
       "4       Books     82         5    410    Cash       4  \n",
       "5    Clothing     52         4    208    Gpay       3  \n",
       "6    Clothing     81         3    243    Cash       4  \n",
       "7       Books     80         2    160    Cash       3  \n",
       "8    Clothing     91         3    273    Card       3  \n",
       "9       Books     80         2    160    Cash       4  \n",
       "10  Furniture     35         4    140    Gpay       4  "
      ],
      "text/html": "<div>\n<style scoped>\n    .dataframe tbody tr th:only-of-type {\n        vertical-align: middle;\n    }\n\n    .dataframe tbody tr th {\n        vertical-align: top;\n    }\n\n    .dataframe thead th {\n        text-align: right;\n    }\n</style>\n<table border=\"1\" class=\"dataframe\">\n  <thead>\n    <tr style=\"text-align: right;\">\n      <th></th>\n      <th>Invoice ID</th>\n      <th>Date</th>\n      <th>Time</th>\n      <th>Gender</th>\n      <th>Location</th>\n      <th>City</th>\n      <th>Member</th>\n      <th>Category</th>\n      <th>Price</th>\n      <th>Quantity</th>\n      <th>Total</th>\n      <th>Payment</th>\n      <th>Rating</th>\n    </tr>\n  </thead>\n  <tbody>\n    <tr>\n      <th>1</th>\n      <td>471006167</td>\n      <td>3/19/2018</td>\n      <td>16:48</td>\n      <td>Female</td>\n      <td>Water tower</td>\n      <td>Chicago</td>\n      <td>Yes</td>\n      <td>Fashion</td>\n      <td>35</td>\n      <td>5</td>\n      <td>175</td>\n      <td>Card</td>\n      <td>3</td>\n    </tr>\n    <tr>\n      <th>2</th>\n      <td>411909258</td>\n      <td>2/25/2018</td>\n      <td>13:33</td>\n      <td>Male</td>\n      <td>Water tower</td>\n      <td>Chicago</td>\n      <td>No</td>\n      <td>Clothing</td>\n      <td>57</td>\n      <td>2</td>\n      <td>114</td>\n      <td>Cash</td>\n      <td>5</td>\n    </tr>\n    <tr>\n      <th>3</th>\n      <td>487313402</td>\n      <td>1/22/2018</td>\n      <td>13:38</td>\n      <td>Female</td>\n      <td>Park lane</td>\n      <td>Dallas</td>\n      <td>Yes</td>\n      <td>Sporting</td>\n      <td>89</td>\n      <td>4</td>\n      <td>356</td>\n      <td>Gpay</td>\n      <td>1</td>\n    </tr>\n    <tr>\n      <th>4</th>\n      <td>197763430</td>\n      <td>2/18/2018</td>\n      <td>15:31</td>\n      <td>Female</td>\n      <td>Park lane</td>\n      <td>Dallas</td>\n      <td>No</td>\n      <td>Books</td>\n      <td>82</td>\n      <td>5</td>\n      <td>410</td>\n      <td>Cash</td>\n      <td>4</td>\n    </tr>\n    <tr>\n      <th>5</th>\n      <td>263634050</td>\n      <td>3/9/2018</td>\n      <td>17:55</td>\n      <td>Male</td>\n      <td>Brookfield</td>\n      <td>NewYork</td>\n      <td>Yes</td>\n      <td>Clothing</td>\n      <td>52</td>\n      <td>4</td>\n      <td>208</td>\n      <td>Gpay</td>\n      <td>3</td>\n    </tr>\n    <tr>\n      <th>6</th>\n      <td>99646662</td>\n      <td>3/4/2018</td>\n      <td>13:21</td>\n      <td>Male</td>\n      <td>Water tower</td>\n      <td>Chicago</td>\n      <td>No</td>\n      <td>Clothing</td>\n      <td>81</td>\n      <td>3</td>\n      <td>243</td>\n      <td>Cash</td>\n      <td>4</td>\n    </tr>\n    <tr>\n      <th>7</th>\n      <td>188869875</td>\n      <td>3/8/2018</td>\n      <td>13:24</td>\n      <td>Male</td>\n      <td>Park lane</td>\n      <td>Dallas</td>\n      <td>No</td>\n      <td>Books</td>\n      <td>80</td>\n      <td>2</td>\n      <td>160</td>\n      <td>Cash</td>\n      <td>3</td>\n    </tr>\n    <tr>\n      <th>8</th>\n      <td>325637547</td>\n      <td>1/18/2018</td>\n      <td>15:33</td>\n      <td>Male</td>\n      <td>Park lane</td>\n      <td>Dallas</td>\n      <td>Yes</td>\n      <td>Clothing</td>\n      <td>91</td>\n      <td>3</td>\n      <td>273</td>\n      <td>Card</td>\n      <td>3</td>\n    </tr>\n    <tr>\n      <th>9</th>\n      <td>562942936</td>\n      <td>2/24/2018</td>\n      <td>16:05</td>\n      <td>Female</td>\n      <td>Park lane</td>\n      <td>Dallas</td>\n      <td>No</td>\n      <td>Books</td>\n      <td>80</td>\n      <td>2</td>\n      <td>160</td>\n      <td>Cash</td>\n      <td>4</td>\n    </tr>\n    <tr>\n      <th>10</th>\n      <td>388412668</td>\n      <td>2/26/2018</td>\n      <td>11:32</td>\n      <td>Female</td>\n      <td>Brookfield</td>\n      <td>NewYork</td>\n      <td>No</td>\n      <td>Furniture</td>\n      <td>35</td>\n      <td>4</td>\n      <td>140</td>\n      <td>Gpay</td>\n      <td>4</td>\n    </tr>\n  </tbody>\n</table>\n</div>"
     },
     "metadata": {},
     "execution_count": 5
    }
   ],
   "source": [
    "sales[sales['Total']>100].head(10)"
   ]
  },
  {
   "cell_type": "code",
   "execution_count": 6,
   "metadata": {},
   "outputs": [
    {
     "output_type": "execute_result",
     "data": {
      "text/plain": [
       "array(['Cash', 'Card', 'Gpay'], dtype=object)"
      ]
     },
     "metadata": {},
     "execution_count": 6
    }
   ],
   "source": [
    "sales['Payment'].unique()"
   ]
  },
  {
   "cell_type": "code",
   "execution_count": 7,
   "metadata": {},
   "outputs": [
    {
     "output_type": "execute_result",
     "data": {
      "text/plain": [
       "     Invoice ID       Date   Time  Gender     Location     City Member  \\\n",
       "0     460489604  1/25/2018  16:46    Male   Brookfield  NewYork    Yes   \n",
       "2     411909258  2/25/2018  13:33    Male  Water tower  Chicago     No   \n",
       "4     197763430  2/18/2018  15:31  Female    Park lane   Dallas     No   \n",
       "6      99646662   3/4/2018  13:21    Male  Water tower  Chicago     No   \n",
       "7     188869875   3/8/2018  13:24    Male    Park lane   Dallas     No   \n",
       "..          ...        ...    ...     ...          ...      ...    ...   \n",
       "989   941364541  3/13/2018  14:53  Female   Brookfield  NewYork     No   \n",
       "990   752407865  1/15/2018  10:01    Male  Water tower  Chicago    Yes   \n",
       "993   455112063  3/19/2018  17:30  Female   Brookfield  NewYork    Yes   \n",
       "994   446582560  1/31/2018  19:00    Male  Water tower  Chicago     No   \n",
       "998   783661702  1/29/2018  15:44  Female   Brookfield  NewYork     No   \n",
       "\n",
       "      Category  Price  Quantity  Total Payment  Rating  \n",
       "0    Groceries     30         1     30    Cash       2  \n",
       "2     Clothing     57         2    114    Cash       5  \n",
       "4        Books     82         5    410    Cash       4  \n",
       "6     Clothing     81         3    243    Cash       4  \n",
       "7        Books     80         2    160    Cash       3  \n",
       "..         ...    ...       ...    ...     ...     ...  \n",
       "989   Sporting     19         7    133    Cash       1  \n",
       "990   Clothing     25         4    100    Cash       5  \n",
       "993   Clothing      3         3      9    Cash       2  \n",
       "994    Fashion     29         5    145    Cash       4  \n",
       "998   Clothing     89         7    623    Cash       5  \n",
       "\n",
       "[344 rows x 13 columns]"
      ],
      "text/html": "<div>\n<style scoped>\n    .dataframe tbody tr th:only-of-type {\n        vertical-align: middle;\n    }\n\n    .dataframe tbody tr th {\n        vertical-align: top;\n    }\n\n    .dataframe thead th {\n        text-align: right;\n    }\n</style>\n<table border=\"1\" class=\"dataframe\">\n  <thead>\n    <tr style=\"text-align: right;\">\n      <th></th>\n      <th>Invoice ID</th>\n      <th>Date</th>\n      <th>Time</th>\n      <th>Gender</th>\n      <th>Location</th>\n      <th>City</th>\n      <th>Member</th>\n      <th>Category</th>\n      <th>Price</th>\n      <th>Quantity</th>\n      <th>Total</th>\n      <th>Payment</th>\n      <th>Rating</th>\n    </tr>\n  </thead>\n  <tbody>\n    <tr>\n      <th>0</th>\n      <td>460489604</td>\n      <td>1/25/2018</td>\n      <td>16:46</td>\n      <td>Male</td>\n      <td>Brookfield</td>\n      <td>NewYork</td>\n      <td>Yes</td>\n      <td>Groceries</td>\n      <td>30</td>\n      <td>1</td>\n      <td>30</td>\n      <td>Cash</td>\n      <td>2</td>\n    </tr>\n    <tr>\n      <th>2</th>\n      <td>411909258</td>\n      <td>2/25/2018</td>\n      <td>13:33</td>\n      <td>Male</td>\n      <td>Water tower</td>\n      <td>Chicago</td>\n      <td>No</td>\n      <td>Clothing</td>\n      <td>57</td>\n      <td>2</td>\n      <td>114</td>\n      <td>Cash</td>\n      <td>5</td>\n    </tr>\n    <tr>\n      <th>4</th>\n      <td>197763430</td>\n      <td>2/18/2018</td>\n      <td>15:31</td>\n      <td>Female</td>\n      <td>Park lane</td>\n      <td>Dallas</td>\n      <td>No</td>\n      <td>Books</td>\n      <td>82</td>\n      <td>5</td>\n      <td>410</td>\n      <td>Cash</td>\n      <td>4</td>\n    </tr>\n    <tr>\n      <th>6</th>\n      <td>99646662</td>\n      <td>3/4/2018</td>\n      <td>13:21</td>\n      <td>Male</td>\n      <td>Water tower</td>\n      <td>Chicago</td>\n      <td>No</td>\n      <td>Clothing</td>\n      <td>81</td>\n      <td>3</td>\n      <td>243</td>\n      <td>Cash</td>\n      <td>4</td>\n    </tr>\n    <tr>\n      <th>7</th>\n      <td>188869875</td>\n      <td>3/8/2018</td>\n      <td>13:24</td>\n      <td>Male</td>\n      <td>Park lane</td>\n      <td>Dallas</td>\n      <td>No</td>\n      <td>Books</td>\n      <td>80</td>\n      <td>2</td>\n      <td>160</td>\n      <td>Cash</td>\n      <td>3</td>\n    </tr>\n    <tr>\n      <th>...</th>\n      <td>...</td>\n      <td>...</td>\n      <td>...</td>\n      <td>...</td>\n      <td>...</td>\n      <td>...</td>\n      <td>...</td>\n      <td>...</td>\n      <td>...</td>\n      <td>...</td>\n      <td>...</td>\n      <td>...</td>\n      <td>...</td>\n    </tr>\n    <tr>\n      <th>989</th>\n      <td>941364541</td>\n      <td>3/13/2018</td>\n      <td>14:53</td>\n      <td>Female</td>\n      <td>Brookfield</td>\n      <td>NewYork</td>\n      <td>No</td>\n      <td>Sporting</td>\n      <td>19</td>\n      <td>7</td>\n      <td>133</td>\n      <td>Cash</td>\n      <td>1</td>\n    </tr>\n    <tr>\n      <th>990</th>\n      <td>752407865</td>\n      <td>1/15/2018</td>\n      <td>10:01</td>\n      <td>Male</td>\n      <td>Water tower</td>\n      <td>Chicago</td>\n      <td>Yes</td>\n      <td>Clothing</td>\n      <td>25</td>\n      <td>4</td>\n      <td>100</td>\n      <td>Cash</td>\n      <td>5</td>\n    </tr>\n    <tr>\n      <th>993</th>\n      <td>455112063</td>\n      <td>3/19/2018</td>\n      <td>17:30</td>\n      <td>Female</td>\n      <td>Brookfield</td>\n      <td>NewYork</td>\n      <td>Yes</td>\n      <td>Clothing</td>\n      <td>3</td>\n      <td>3</td>\n      <td>9</td>\n      <td>Cash</td>\n      <td>2</td>\n    </tr>\n    <tr>\n      <th>994</th>\n      <td>446582560</td>\n      <td>1/31/2018</td>\n      <td>19:00</td>\n      <td>Male</td>\n      <td>Water tower</td>\n      <td>Chicago</td>\n      <td>No</td>\n      <td>Fashion</td>\n      <td>29</td>\n      <td>5</td>\n      <td>145</td>\n      <td>Cash</td>\n      <td>4</td>\n    </tr>\n    <tr>\n      <th>998</th>\n      <td>783661702</td>\n      <td>1/29/2018</td>\n      <td>15:44</td>\n      <td>Female</td>\n      <td>Brookfield</td>\n      <td>NewYork</td>\n      <td>No</td>\n      <td>Clothing</td>\n      <td>89</td>\n      <td>7</td>\n      <td>623</td>\n      <td>Cash</td>\n      <td>5</td>\n    </tr>\n  </tbody>\n</table>\n<p>344 rows × 13 columns</p>\n</div>"
     },
     "metadata": {},
     "execution_count": 7
    }
   ],
   "source": [
    "sales[sales['Payment']=='Cash']"
   ]
  },
  {
   "cell_type": "code",
   "execution_count": 9,
   "metadata": {},
   "outputs": [
    {
     "output_type": "execute_result",
     "data": {
      "text/plain": [
       "     Invoice ID       Date   Time  Gender     Location     City Member  \\\n",
       "1     471006167  3/19/2018  16:48  Female  Water tower  Chicago    Yes   \n",
       "2     411909258  2/25/2018  13:33    Male  Water tower  Chicago     No   \n",
       "7     188869875   3/8/2018  13:24    Male    Park lane   Dallas     No   \n",
       "9     562942936  2/24/2018  16:05  Female    Park lane   Dallas     No   \n",
       "10    388412668  2/26/2018  11:32  Female   Brookfield  NewYork     No   \n",
       "..          ...        ...    ...     ...          ...      ...    ...   \n",
       "977   614557665  3/22/2018  17:16  Female    Park lane   Dallas     No   \n",
       "981   418253101  3/14/2018  12:25  Female   Brookfield  NewYork     No   \n",
       "989   941364541  3/13/2018  14:53  Female   Brookfield  NewYork     No   \n",
       "994   446582560  1/31/2018  19:00    Male  Water tower  Chicago     No   \n",
       "995   818829599  3/26/2018  11:19    Male    Park lane   Dallas     No   \n",
       "\n",
       "      Category  Price  Quantity  Total Payment  Rating  \n",
       "1      Fashion     35         5    175    Card       3  \n",
       "2     Clothing     57         2    114    Cash       5  \n",
       "7        Books     80         2    160    Cash       3  \n",
       "9        Books     80         2    160    Cash       4  \n",
       "10   Furniture     35         4    140    Gpay       4  \n",
       "..         ...    ...       ...    ...     ...     ...  \n",
       "977   Clothing     49         3    147    Cash       5  \n",
       "981    Fashion     81         2    162    Gpay       5  \n",
       "989   Sporting     19         7    133    Cash       1  \n",
       "994    Fashion     29         5    145    Cash       4  \n",
       "995  Groceries     31         4    124    Card       3  \n",
       "\n",
       "[231 rows x 13 columns]"
      ],
      "text/html": "<div>\n<style scoped>\n    .dataframe tbody tr th:only-of-type {\n        vertical-align: middle;\n    }\n\n    .dataframe tbody tr th {\n        vertical-align: top;\n    }\n\n    .dataframe thead th {\n        text-align: right;\n    }\n</style>\n<table border=\"1\" class=\"dataframe\">\n  <thead>\n    <tr style=\"text-align: right;\">\n      <th></th>\n      <th>Invoice ID</th>\n      <th>Date</th>\n      <th>Time</th>\n      <th>Gender</th>\n      <th>Location</th>\n      <th>City</th>\n      <th>Member</th>\n      <th>Category</th>\n      <th>Price</th>\n      <th>Quantity</th>\n      <th>Total</th>\n      <th>Payment</th>\n      <th>Rating</th>\n    </tr>\n  </thead>\n  <tbody>\n    <tr>\n      <th>1</th>\n      <td>471006167</td>\n      <td>3/19/2018</td>\n      <td>16:48</td>\n      <td>Female</td>\n      <td>Water tower</td>\n      <td>Chicago</td>\n      <td>Yes</td>\n      <td>Fashion</td>\n      <td>35</td>\n      <td>5</td>\n      <td>175</td>\n      <td>Card</td>\n      <td>3</td>\n    </tr>\n    <tr>\n      <th>2</th>\n      <td>411909258</td>\n      <td>2/25/2018</td>\n      <td>13:33</td>\n      <td>Male</td>\n      <td>Water tower</td>\n      <td>Chicago</td>\n      <td>No</td>\n      <td>Clothing</td>\n      <td>57</td>\n      <td>2</td>\n      <td>114</td>\n      <td>Cash</td>\n      <td>5</td>\n    </tr>\n    <tr>\n      <th>7</th>\n      <td>188869875</td>\n      <td>3/8/2018</td>\n      <td>13:24</td>\n      <td>Male</td>\n      <td>Park lane</td>\n      <td>Dallas</td>\n      <td>No</td>\n      <td>Books</td>\n      <td>80</td>\n      <td>2</td>\n      <td>160</td>\n      <td>Cash</td>\n      <td>3</td>\n    </tr>\n    <tr>\n      <th>9</th>\n      <td>562942936</td>\n      <td>2/24/2018</td>\n      <td>16:05</td>\n      <td>Female</td>\n      <td>Park lane</td>\n      <td>Dallas</td>\n      <td>No</td>\n      <td>Books</td>\n      <td>80</td>\n      <td>2</td>\n      <td>160</td>\n      <td>Cash</td>\n      <td>4</td>\n    </tr>\n    <tr>\n      <th>10</th>\n      <td>388412668</td>\n      <td>2/26/2018</td>\n      <td>11:32</td>\n      <td>Female</td>\n      <td>Brookfield</td>\n      <td>NewYork</td>\n      <td>No</td>\n      <td>Furniture</td>\n      <td>35</td>\n      <td>4</td>\n      <td>140</td>\n      <td>Gpay</td>\n      <td>4</td>\n    </tr>\n    <tr>\n      <th>...</th>\n      <td>...</td>\n      <td>...</td>\n      <td>...</td>\n      <td>...</td>\n      <td>...</td>\n      <td>...</td>\n      <td>...</td>\n      <td>...</td>\n      <td>...</td>\n      <td>...</td>\n      <td>...</td>\n      <td>...</td>\n      <td>...</td>\n    </tr>\n    <tr>\n      <th>977</th>\n      <td>614557665</td>\n      <td>3/22/2018</td>\n      <td>17:16</td>\n      <td>Female</td>\n      <td>Park lane</td>\n      <td>Dallas</td>\n      <td>No</td>\n      <td>Clothing</td>\n      <td>49</td>\n      <td>3</td>\n      <td>147</td>\n      <td>Cash</td>\n      <td>5</td>\n    </tr>\n    <tr>\n      <th>981</th>\n      <td>418253101</td>\n      <td>3/14/2018</td>\n      <td>12:25</td>\n      <td>Female</td>\n      <td>Brookfield</td>\n      <td>NewYork</td>\n      <td>No</td>\n      <td>Fashion</td>\n      <td>81</td>\n      <td>2</td>\n      <td>162</td>\n      <td>Gpay</td>\n      <td>5</td>\n    </tr>\n    <tr>\n      <th>989</th>\n      <td>941364541</td>\n      <td>3/13/2018</td>\n      <td>14:53</td>\n      <td>Female</td>\n      <td>Brookfield</td>\n      <td>NewYork</td>\n      <td>No</td>\n      <td>Sporting</td>\n      <td>19</td>\n      <td>7</td>\n      <td>133</td>\n      <td>Cash</td>\n      <td>1</td>\n    </tr>\n    <tr>\n      <th>994</th>\n      <td>446582560</td>\n      <td>1/31/2018</td>\n      <td>19:00</td>\n      <td>Male</td>\n      <td>Water tower</td>\n      <td>Chicago</td>\n      <td>No</td>\n      <td>Fashion</td>\n      <td>29</td>\n      <td>5</td>\n      <td>145</td>\n      <td>Cash</td>\n      <td>4</td>\n    </tr>\n    <tr>\n      <th>995</th>\n      <td>818829599</td>\n      <td>3/26/2018</td>\n      <td>11:19</td>\n      <td>Male</td>\n      <td>Park lane</td>\n      <td>Dallas</td>\n      <td>No</td>\n      <td>Groceries</td>\n      <td>31</td>\n      <td>4</td>\n      <td>124</td>\n      <td>Card</td>\n      <td>3</td>\n    </tr>\n  </tbody>\n</table>\n<p>231 rows × 13 columns</p>\n</div>"
     },
     "metadata": {},
     "execution_count": 9
    }
   ],
   "source": [
    "sales.query('200>Total>100')"
   ]
  },
  {
   "cell_type": "code",
   "execution_count": 17,
   "metadata": {},
   "outputs": [
    {
     "output_type": "execute_result",
     "data": {
      "text/plain": [
       "     Invoice ID       Date   Time  Gender   Location    City Member  \\\n",
       "17     90524319  3/19/2018  18:18    Male  Park lane  Dallas    Yes   \n",
       "75    437093770   2/7/2018  16:42  Female  Park lane  Dallas    Yes   \n",
       "133     9436913  1/27/2018  14:26  Female  Park lane  Dallas     No   \n",
       "291    85210798  2/28/2018  12:27  Female  Park lane  Dallas    Yes   \n",
       "298   601235443  3/21/2018  10:11  Female  Park lane  Dallas    Yes   \n",
       "362   236780335  3/24/2018  20:51  Female  Park lane  Dallas     No   \n",
       "396    73853764  1/26/2018  19:06  Female  Park lane  Dallas    Yes   \n",
       "479   648584786   2/2/2018  15:10    Male  Park lane  Dallas    Yes   \n",
       "516   317999524  2/16/2018  15:04  Female  Park lane  Dallas    Yes   \n",
       "556   106779665  2/11/2018  11:20  Female  Park lane  Dallas     No   \n",
       "587   646176653  3/10/2018  19:39    Male  Park lane  Dallas    Yes   \n",
       "639   135768329   1/4/2018  19:24  Female  Park lane  Dallas     No   \n",
       "699   404017492  2/26/2018  13:53  Female  Park lane  Dallas     No   \n",
       "721   928380831  2/10/2018  12:24    Male  Park lane  Dallas    Yes   \n",
       "737   855506655  1/23/2018  13:22    Male  Park lane  Dallas     No   \n",
       "773   801096383  1/22/2018  14:24  Female  Park lane  Dallas     No   \n",
       "775    96360197  3/20/2018  12:43  Female  Park lane  Dallas     No   \n",
       "820   315410869  2/19/2018  16:23    Male  Park lane  Dallas     No   \n",
       "880   658692054  1/29/2018  19:14    Male  Park lane  Dallas     No   \n",
       "922   526803787   2/2/2018  10:54  Female  Park lane  Dallas     No   \n",
       "933   767705654  1/30/2018  11:15    Male  Park lane  Dallas     No   \n",
       "976   497734676   2/9/2018  14:14    Male  Park lane  Dallas     No   \n",
       "\n",
       "      Category  Price  Quantity  Total Payment  Rating  \n",
       "17    Clothing     23         1     23    Cash       3  \n",
       "75    Sporting      4         1      4    Cash       2  \n",
       "133  Groceries      9         4     36    Cash       2  \n",
       "291      Books     23         2     46    Cash       5  \n",
       "298   Clothing      6         4     24    Cash       5  \n",
       "362   Clothing      7         7     49    Cash       5  \n",
       "396   Sporting     12         2     24    Cash       1  \n",
       "479  Furniture      3         3      9    Cash       5  \n",
       "516   Clothing      7         3     21    Cash       4  \n",
       "556   Sporting     16         2     32    Cash       5  \n",
       "587   Sporting      1         1      1    Cash       2  \n",
       "639   Sporting      8         2     16    Cash       1  \n",
       "699    Fashion     23         1     23    Cash       2  \n",
       "721    Fashion      1         7      7    Cash       2  \n",
       "737   Sporting     16         2     32    Cash       4  \n",
       "773    Fashion      2         2      4    Cash       5  \n",
       "775  Furniture      4         2      8    Cash       4  \n",
       "820    Fashion      3         3      9    Cash       4  \n",
       "880   Clothing      2         7     14    Cash       1  \n",
       "922  Furniture     20         2     40    Cash       4  \n",
       "933      Books     35         1     35    Cash       2  \n",
       "976   Sporting      5         4     20    Cash       3  "
      ],
      "text/html": "<div>\n<style scoped>\n    .dataframe tbody tr th:only-of-type {\n        vertical-align: middle;\n    }\n\n    .dataframe tbody tr th {\n        vertical-align: top;\n    }\n\n    .dataframe thead th {\n        text-align: right;\n    }\n</style>\n<table border=\"1\" class=\"dataframe\">\n  <thead>\n    <tr style=\"text-align: right;\">\n      <th></th>\n      <th>Invoice ID</th>\n      <th>Date</th>\n      <th>Time</th>\n      <th>Gender</th>\n      <th>Location</th>\n      <th>City</th>\n      <th>Member</th>\n      <th>Category</th>\n      <th>Price</th>\n      <th>Quantity</th>\n      <th>Total</th>\n      <th>Payment</th>\n      <th>Rating</th>\n    </tr>\n  </thead>\n  <tbody>\n    <tr>\n      <th>17</th>\n      <td>90524319</td>\n      <td>3/19/2018</td>\n      <td>18:18</td>\n      <td>Male</td>\n      <td>Park lane</td>\n      <td>Dallas</td>\n      <td>Yes</td>\n      <td>Clothing</td>\n      <td>23</td>\n      <td>1</td>\n      <td>23</td>\n      <td>Cash</td>\n      <td>3</td>\n    </tr>\n    <tr>\n      <th>75</th>\n      <td>437093770</td>\n      <td>2/7/2018</td>\n      <td>16:42</td>\n      <td>Female</td>\n      <td>Park lane</td>\n      <td>Dallas</td>\n      <td>Yes</td>\n      <td>Sporting</td>\n      <td>4</td>\n      <td>1</td>\n      <td>4</td>\n      <td>Cash</td>\n      <td>2</td>\n    </tr>\n    <tr>\n      <th>133</th>\n      <td>9436913</td>\n      <td>1/27/2018</td>\n      <td>14:26</td>\n      <td>Female</td>\n      <td>Park lane</td>\n      <td>Dallas</td>\n      <td>No</td>\n      <td>Groceries</td>\n      <td>9</td>\n      <td>4</td>\n      <td>36</td>\n      <td>Cash</td>\n      <td>2</td>\n    </tr>\n    <tr>\n      <th>291</th>\n      <td>85210798</td>\n      <td>2/28/2018</td>\n      <td>12:27</td>\n      <td>Female</td>\n      <td>Park lane</td>\n      <td>Dallas</td>\n      <td>Yes</td>\n      <td>Books</td>\n      <td>23</td>\n      <td>2</td>\n      <td>46</td>\n      <td>Cash</td>\n      <td>5</td>\n    </tr>\n    <tr>\n      <th>298</th>\n      <td>601235443</td>\n      <td>3/21/2018</td>\n      <td>10:11</td>\n      <td>Female</td>\n      <td>Park lane</td>\n      <td>Dallas</td>\n      <td>Yes</td>\n      <td>Clothing</td>\n      <td>6</td>\n      <td>4</td>\n      <td>24</td>\n      <td>Cash</td>\n      <td>5</td>\n    </tr>\n    <tr>\n      <th>362</th>\n      <td>236780335</td>\n      <td>3/24/2018</td>\n      <td>20:51</td>\n      <td>Female</td>\n      <td>Park lane</td>\n      <td>Dallas</td>\n      <td>No</td>\n      <td>Clothing</td>\n      <td>7</td>\n      <td>7</td>\n      <td>49</td>\n      <td>Cash</td>\n      <td>5</td>\n    </tr>\n    <tr>\n      <th>396</th>\n      <td>73853764</td>\n      <td>1/26/2018</td>\n      <td>19:06</td>\n      <td>Female</td>\n      <td>Park lane</td>\n      <td>Dallas</td>\n      <td>Yes</td>\n      <td>Sporting</td>\n      <td>12</td>\n      <td>2</td>\n      <td>24</td>\n      <td>Cash</td>\n      <td>1</td>\n    </tr>\n    <tr>\n      <th>479</th>\n      <td>648584786</td>\n      <td>2/2/2018</td>\n      <td>15:10</td>\n      <td>Male</td>\n      <td>Park lane</td>\n      <td>Dallas</td>\n      <td>Yes</td>\n      <td>Furniture</td>\n      <td>3</td>\n      <td>3</td>\n      <td>9</td>\n      <td>Cash</td>\n      <td>5</td>\n    </tr>\n    <tr>\n      <th>516</th>\n      <td>317999524</td>\n      <td>2/16/2018</td>\n      <td>15:04</td>\n      <td>Female</td>\n      <td>Park lane</td>\n      <td>Dallas</td>\n      <td>Yes</td>\n      <td>Clothing</td>\n      <td>7</td>\n      <td>3</td>\n      <td>21</td>\n      <td>Cash</td>\n      <td>4</td>\n    </tr>\n    <tr>\n      <th>556</th>\n      <td>106779665</td>\n      <td>2/11/2018</td>\n      <td>11:20</td>\n      <td>Female</td>\n      <td>Park lane</td>\n      <td>Dallas</td>\n      <td>No</td>\n      <td>Sporting</td>\n      <td>16</td>\n      <td>2</td>\n      <td>32</td>\n      <td>Cash</td>\n      <td>5</td>\n    </tr>\n    <tr>\n      <th>587</th>\n      <td>646176653</td>\n      <td>3/10/2018</td>\n      <td>19:39</td>\n      <td>Male</td>\n      <td>Park lane</td>\n      <td>Dallas</td>\n      <td>Yes</td>\n      <td>Sporting</td>\n      <td>1</td>\n      <td>1</td>\n      <td>1</td>\n      <td>Cash</td>\n      <td>2</td>\n    </tr>\n    <tr>\n      <th>639</th>\n      <td>135768329</td>\n      <td>1/4/2018</td>\n      <td>19:24</td>\n      <td>Female</td>\n      <td>Park lane</td>\n      <td>Dallas</td>\n      <td>No</td>\n      <td>Sporting</td>\n      <td>8</td>\n      <td>2</td>\n      <td>16</td>\n      <td>Cash</td>\n      <td>1</td>\n    </tr>\n    <tr>\n      <th>699</th>\n      <td>404017492</td>\n      <td>2/26/2018</td>\n      <td>13:53</td>\n      <td>Female</td>\n      <td>Park lane</td>\n      <td>Dallas</td>\n      <td>No</td>\n      <td>Fashion</td>\n      <td>23</td>\n      <td>1</td>\n      <td>23</td>\n      <td>Cash</td>\n      <td>2</td>\n    </tr>\n    <tr>\n      <th>721</th>\n      <td>928380831</td>\n      <td>2/10/2018</td>\n      <td>12:24</td>\n      <td>Male</td>\n      <td>Park lane</td>\n      <td>Dallas</td>\n      <td>Yes</td>\n      <td>Fashion</td>\n      <td>1</td>\n      <td>7</td>\n      <td>7</td>\n      <td>Cash</td>\n      <td>2</td>\n    </tr>\n    <tr>\n      <th>737</th>\n      <td>855506655</td>\n      <td>1/23/2018</td>\n      <td>13:22</td>\n      <td>Male</td>\n      <td>Park lane</td>\n      <td>Dallas</td>\n      <td>No</td>\n      <td>Sporting</td>\n      <td>16</td>\n      <td>2</td>\n      <td>32</td>\n      <td>Cash</td>\n      <td>4</td>\n    </tr>\n    <tr>\n      <th>773</th>\n      <td>801096383</td>\n      <td>1/22/2018</td>\n      <td>14:24</td>\n      <td>Female</td>\n      <td>Park lane</td>\n      <td>Dallas</td>\n      <td>No</td>\n      <td>Fashion</td>\n      <td>2</td>\n      <td>2</td>\n      <td>4</td>\n      <td>Cash</td>\n      <td>5</td>\n    </tr>\n    <tr>\n      <th>775</th>\n      <td>96360197</td>\n      <td>3/20/2018</td>\n      <td>12:43</td>\n      <td>Female</td>\n      <td>Park lane</td>\n      <td>Dallas</td>\n      <td>No</td>\n      <td>Furniture</td>\n      <td>4</td>\n      <td>2</td>\n      <td>8</td>\n      <td>Cash</td>\n      <td>4</td>\n    </tr>\n    <tr>\n      <th>820</th>\n      <td>315410869</td>\n      <td>2/19/2018</td>\n      <td>16:23</td>\n      <td>Male</td>\n      <td>Park lane</td>\n      <td>Dallas</td>\n      <td>No</td>\n      <td>Fashion</td>\n      <td>3</td>\n      <td>3</td>\n      <td>9</td>\n      <td>Cash</td>\n      <td>4</td>\n    </tr>\n    <tr>\n      <th>880</th>\n      <td>658692054</td>\n      <td>1/29/2018</td>\n      <td>19:14</td>\n      <td>Male</td>\n      <td>Park lane</td>\n      <td>Dallas</td>\n      <td>No</td>\n      <td>Clothing</td>\n      <td>2</td>\n      <td>7</td>\n      <td>14</td>\n      <td>Cash</td>\n      <td>1</td>\n    </tr>\n    <tr>\n      <th>922</th>\n      <td>526803787</td>\n      <td>2/2/2018</td>\n      <td>10:54</td>\n      <td>Female</td>\n      <td>Park lane</td>\n      <td>Dallas</td>\n      <td>No</td>\n      <td>Furniture</td>\n      <td>20</td>\n      <td>2</td>\n      <td>40</td>\n      <td>Cash</td>\n      <td>4</td>\n    </tr>\n    <tr>\n      <th>933</th>\n      <td>767705654</td>\n      <td>1/30/2018</td>\n      <td>11:15</td>\n      <td>Male</td>\n      <td>Park lane</td>\n      <td>Dallas</td>\n      <td>No</td>\n      <td>Books</td>\n      <td>35</td>\n      <td>1</td>\n      <td>35</td>\n      <td>Cash</td>\n      <td>2</td>\n    </tr>\n    <tr>\n      <th>976</th>\n      <td>497734676</td>\n      <td>2/9/2018</td>\n      <td>14:14</td>\n      <td>Male</td>\n      <td>Park lane</td>\n      <td>Dallas</td>\n      <td>No</td>\n      <td>Sporting</td>\n      <td>5</td>\n      <td>4</td>\n      <td>20</td>\n      <td>Cash</td>\n      <td>3</td>\n    </tr>\n  </tbody>\n</table>\n</div>"
     },
     "metadata": {},
     "execution_count": 17
    }
   ],
   "source": [
    "sales.query('Payment==\"Cash\" & City==\"Dallas\" & Total<50')"
   ]
  },
  {
   "cell_type": "code",
   "execution_count": 18,
   "metadata": {},
   "outputs": [
    {
     "output_type": "execute_result",
     "data": {
      "text/plain": [
       "207788"
      ]
     },
     "metadata": {},
     "execution_count": 18
    }
   ],
   "source": [
    "sales.sum()['Total']"
   ]
  },
  {
   "cell_type": "code",
   "execution_count": 19,
   "metadata": {},
   "outputs": [
    {
     "output_type": "execute_result",
     "data": {
      "text/plain": [
       "4059"
      ]
     },
     "metadata": {},
     "execution_count": 19
    }
   ],
   "source": [
    "sales.sum()['Quantity']"
   ]
  },
  {
   "cell_type": "code",
   "execution_count": 20,
   "metadata": {},
   "outputs": [
    {
     "output_type": "execute_result",
     "data": {
      "text/plain": [
       "693"
      ]
     },
     "metadata": {},
     "execution_count": 20
    }
   ],
   "source": [
    "sales.max()['Total']"
   ]
  },
  {
   "cell_type": "code",
   "execution_count": 21,
   "metadata": {},
   "outputs": [
    {
     "output_type": "execute_result",
     "data": {
      "text/plain": [
       "     Invoice ID       Date   Time  Gender     Location     City Member  \\\n",
       "47    315624039  3/30/2018  19:45  Female  Water tower  Chicago    Yes   \n",
       "679   270918350  3/27/2018  13:21  Female    Park lane   Dallas    Yes   \n",
       "\n",
       "      Category  Price  Quantity  Total Payment  Rating  \n",
       "47   Groceries     99         7    693    Gpay       3  \n",
       "679  Groceries     99         7    693    Gpay       2  "
      ],
      "text/html": "<div>\n<style scoped>\n    .dataframe tbody tr th:only-of-type {\n        vertical-align: middle;\n    }\n\n    .dataframe tbody tr th {\n        vertical-align: top;\n    }\n\n    .dataframe thead th {\n        text-align: right;\n    }\n</style>\n<table border=\"1\" class=\"dataframe\">\n  <thead>\n    <tr style=\"text-align: right;\">\n      <th></th>\n      <th>Invoice ID</th>\n      <th>Date</th>\n      <th>Time</th>\n      <th>Gender</th>\n      <th>Location</th>\n      <th>City</th>\n      <th>Member</th>\n      <th>Category</th>\n      <th>Price</th>\n      <th>Quantity</th>\n      <th>Total</th>\n      <th>Payment</th>\n      <th>Rating</th>\n    </tr>\n  </thead>\n  <tbody>\n    <tr>\n      <th>47</th>\n      <td>315624039</td>\n      <td>3/30/2018</td>\n      <td>19:45</td>\n      <td>Female</td>\n      <td>Water tower</td>\n      <td>Chicago</td>\n      <td>Yes</td>\n      <td>Groceries</td>\n      <td>99</td>\n      <td>7</td>\n      <td>693</td>\n      <td>Gpay</td>\n      <td>3</td>\n    </tr>\n    <tr>\n      <th>679</th>\n      <td>270918350</td>\n      <td>3/27/2018</td>\n      <td>13:21</td>\n      <td>Female</td>\n      <td>Park lane</td>\n      <td>Dallas</td>\n      <td>Yes</td>\n      <td>Groceries</td>\n      <td>99</td>\n      <td>7</td>\n      <td>693</td>\n      <td>Gpay</td>\n      <td>2</td>\n    </tr>\n  </tbody>\n</table>\n</div>"
     },
     "metadata": {},
     "execution_count": 21
    }
   ],
   "source": [
    "sales[sales['Total']==sales.max()['Total']]"
   ]
  },
  {
   "cell_type": "code",
   "execution_count": 22,
   "metadata": {},
   "outputs": [
    {
     "output_type": "execute_result",
     "data": {
      "text/plain": [
       "1"
      ]
     },
     "metadata": {},
     "execution_count": 22
    }
   ],
   "source": [
    "sales.min()['Total']"
   ]
  },
  {
   "cell_type": "code",
   "execution_count": 23,
   "metadata": {},
   "outputs": [
    {
     "output_type": "execute_result",
     "data": {
      "text/plain": [
       "     Invoice ID       Date   Time  Gender   Location    City Member  \\\n",
       "184   801334050  1/21/2018  20:18  Female  Park lane  Dallas     No   \n",
       "587   646176653  3/10/2018  19:39    Male  Park lane  Dallas    Yes   \n",
       "\n",
       "      Category  Price  Quantity  Total Payment  Rating  \n",
       "184  Furniture      1         1      1    Gpay       2  \n",
       "587   Sporting      1         1      1    Cash       2  "
      ],
      "text/html": "<div>\n<style scoped>\n    .dataframe tbody tr th:only-of-type {\n        vertical-align: middle;\n    }\n\n    .dataframe tbody tr th {\n        vertical-align: top;\n    }\n\n    .dataframe thead th {\n        text-align: right;\n    }\n</style>\n<table border=\"1\" class=\"dataframe\">\n  <thead>\n    <tr style=\"text-align: right;\">\n      <th></th>\n      <th>Invoice ID</th>\n      <th>Date</th>\n      <th>Time</th>\n      <th>Gender</th>\n      <th>Location</th>\n      <th>City</th>\n      <th>Member</th>\n      <th>Category</th>\n      <th>Price</th>\n      <th>Quantity</th>\n      <th>Total</th>\n      <th>Payment</th>\n      <th>Rating</th>\n    </tr>\n  </thead>\n  <tbody>\n    <tr>\n      <th>184</th>\n      <td>801334050</td>\n      <td>1/21/2018</td>\n      <td>20:18</td>\n      <td>Female</td>\n      <td>Park lane</td>\n      <td>Dallas</td>\n      <td>No</td>\n      <td>Furniture</td>\n      <td>1</td>\n      <td>1</td>\n      <td>1</td>\n      <td>Gpay</td>\n      <td>2</td>\n    </tr>\n    <tr>\n      <th>587</th>\n      <td>646176653</td>\n      <td>3/10/2018</td>\n      <td>19:39</td>\n      <td>Male</td>\n      <td>Park lane</td>\n      <td>Dallas</td>\n      <td>Yes</td>\n      <td>Sporting</td>\n      <td>1</td>\n      <td>1</td>\n      <td>1</td>\n      <td>Cash</td>\n      <td>2</td>\n    </tr>\n  </tbody>\n</table>\n</div>"
     },
     "metadata": {},
     "execution_count": 23
    }
   ],
   "source": [
    "sales[sales['Total']==sales.min()['Total']]"
   ]
  },
  {
   "cell_type": "code",
   "execution_count": 24,
   "metadata": {},
   "outputs": [
    {
     "output_type": "execute_result",
     "data": {
      "text/plain": [
       "207.788"
      ]
     },
     "metadata": {},
     "execution_count": 24
    }
   ],
   "source": [
    "sales.mean()['Total']"
   ]
  },
  {
   "cell_type": "code",
   "execution_count": 25,
   "metadata": {},
   "outputs": [
    {
     "output_type": "execute_result",
     "data": {
      "text/plain": [
       "4.059"
      ]
     },
     "metadata": {},
     "execution_count": 25
    }
   ],
   "source": [
    "sales.mean()['Quantity']"
   ]
  },
  {
   "cell_type": "code",
   "execution_count": 27,
   "metadata": {},
   "outputs": [],
   "source": [
    "prom = sales.mean()['Total']/sales.mean()['Quantity']"
   ]
  },
  {
   "cell_type": "code",
   "execution_count": 29,
   "metadata": {},
   "outputs": [
    {
     "output_type": "stream",
     "name": "stdout",
     "text": [
      "207788.0\n207788\n"
     ]
    }
   ],
   "source": [
    "print(prom*sales.sum()['Quantity'])\n",
    "print(sales.sum()['Total'])"
   ]
  },
  {
   "cell_type": "code",
   "execution_count": null,
   "metadata": {},
   "outputs": [],
   "source": []
  }
 ]
}